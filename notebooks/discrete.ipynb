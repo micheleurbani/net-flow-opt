{
 "cells": [
  {
   "cell_type": "code",
   "execution_count": null,
   "metadata": {},
   "outputs": [],
   "source": [
    "import os\n",
    "import sys\n",
    "module_path = os.path.abspath(os.path.join('..'))\n",
    "if module_path not in sys.path:\n",
    "    sys.path.append(module_path)\n",
    "import dill\n",
    "import numpy as np\n",
    "import pandas as pd\n",
    "import matplotlib.pyplot as plt\n",
    "\n",
    "from pymoo.algorithms.moo.nsga2 import NSGA2\n",
    "from pymoo.optimize import minimize\n",
    "from pymoo.operators.crossover.sbx import SBX\n",
    "from pymoo.operators.mutation.pm import PM\n",
    "from pymoo.operators.repair.rounding import RoundingRepair\n",
    "from pymoo.visualization.scatter import Scatter\n",
    "\n",
    "from net_flow_opt.utils import components, structure\n",
    "from net_flow_opt.network import  Activity, System\n",
    "from net_flow_opt.model import DiscreteModel\n",
    "from net_flow_opt.callbacks import TrackPerformance\n",
    "from net_flow_opt.sampling import GroupingStructureSampling\n"
   ]
  },
  {
   "cell_type": "markdown",
   "metadata": {},
   "source": [
    "Main parameters of the experiment are declared here."
   ]
  },
  {
   "cell_type": "code",
   "execution_count": null,
   "metadata": {},
   "outputs": [],
   "source": [
    "pop_size = 200\n",
    "termination = ('n_gen', 300)\n",
    "seed = 43348\n",
    "eps = 1e-3"
   ]
  },
  {
   "cell_type": "markdown",
   "metadata": {},
   "source": [
    "The cells below repeat the experiment with a different number of resources."
   ]
  },
  {
   "cell_type": "code",
   "execution_count": null,
   "metadata": {},
   "outputs": [],
   "source": [
    "def experiment(resources):\n",
    "\n",
    "    system = System(structure, components)\n",
    "\n",
    "    activities = [Activity(component) for component in system.components]\n",
    "\n",
    "    problem = DiscreteModel(system=system, resources=resources)\n",
    "\n",
    "    T = 200\n",
    "    dates = np.array([a.t for a in activities])\n",
    "    d_t = np.vstack([- dates, T - dates])\n",
    "    i = np.argmax(np.abs(d_t), axis=0)\n",
    "    d_t = d_t[i, np.arange(d_t.shape[1])]\n",
    "\n",
    "    ref_point = np.array([\n",
    "        system.regular_flow * T,\n",
    "        np.sum([a.h(d_t[i] + eps) for i, a in enumerate(activities)])\n",
    "    ])\n",
    "\n",
    "    algorithm = NSGA2(\n",
    "        sampling=GroupingStructureSampling(),\n",
    "        crossover=SBX(prob=0.9, eta=3.0, vtype=float, repair=RoundingRepair()),\n",
    "        mutation=PM(prob=0.9, eta=3.0, vtype=float, repair=RoundingRepair()),\n",
    "        pop_size=pop_size,\n",
    "        eliminate_duplicates=True,\n",
    "        callback=TrackPerformance(ref_point=ref_point),\n",
    "    )\n",
    "\n",
    "    res = minimize(\n",
    "        problem=problem,\n",
    "        algorithm=algorithm,\n",
    "        termination=termination,\n",
    "        seed=seed,\n",
    "        save_history=True,\n",
    "    )\n",
    "\n",
    "    return res"
   ]
  },
  {
   "cell_type": "code",
   "execution_count": null,
   "metadata": {},
   "outputs": [],
   "source": [
    "for resources in range(2, 8):\n",
    "    res = experiment(resources)\n",
    "\n",
    "    # save data\n",
    "    df = pd.DataFrame(res.opt.get(\"F\"), columns=['IC', 'LF'])\n",
    "    df.to_csv(f'../data/discrete_r{resources}.csv', index=False)\n",
    "\n",
    "    df = pd.DataFrame(np.array(res.algorithm.callback.data['hv']), columns=['HV'])\n",
    "    df.index.name = 'iter'\n",
    "    df.to_csv(f'../data/discrete_hv_r{resources}.csv')\n",
    "\n",
    "    with open(f'../data/discrete_r{resources}', 'wb') as f:\n",
    "        dill.dump(res, f)\n",
    "\n",
    "    print(f\"Experiment with r={resources} completed.\")"
   ]
  },
  {
   "cell_type": "code",
   "execution_count": null,
   "metadata": {},
   "outputs": [],
   "source": [
    "F = res.opt.get(\"F\")\n",
    "plot = Scatter(\n",
    "    title=\"Continuous model Pareto front\",\n",
    "    labels=['IC', 'FL']\n",
    ")\n",
    "plot.add(F)\n",
    "plot.show()"
   ]
  },
  {
   "cell_type": "code",
   "execution_count": null,
   "metadata": {},
   "outputs": [],
   "source": [
    "\n",
    "hv = np.array(res.algorithm.callback.data['hv'])\n",
    "\n",
    "plt.plot(hv)"
   ]
  }
 ],
 "metadata": {
  "kernelspec": {
   "display_name": "net-flow-opt-nxkwTGQf-py3.10",
   "language": "python",
   "name": "python3"
  },
  "language_info": {
   "codemirror_mode": {
    "name": "ipython",
    "version": 3
   },
   "file_extension": ".py",
   "mimetype": "text/x-python",
   "name": "python",
   "nbconvert_exporter": "python",
   "pygments_lexer": "ipython3",
   "version": "3.10.13"
  },
  "orig_nbformat": 4
 },
 "nbformat": 4,
 "nbformat_minor": 2
}
